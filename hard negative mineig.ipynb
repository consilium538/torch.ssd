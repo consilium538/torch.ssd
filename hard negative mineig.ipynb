{
 "cells": [
  {
   "cell_type": "code",
   "execution_count": 1,
   "metadata": {},
   "outputs": [],
   "source": [
    "import torch;import torch.nn as nn;import torch.nn.functional as F\n",
    "torch.set_default_tensor_type(torch.cuda.FloatTensor)\n",
    "from layer.modules.ssd import SSD\n",
    "from layer.function.iou import match\n",
    "a = torch.rand(2,3,300,300)\n",
    "b = SSD()\n",
    "c = b(a) # (loc, conf, defult)\n",
    "d = torch.tensor([[0.0,0.0,1.0,1.0,2.0],[0.5,0.5,1.0,1.0,5.0]]).reshape(2,-1) #fake truthbox\n",
    "d1 = torch.tensor((0.0,0.0,1.0,1.0,2.0)).reshape(1,-1)"
   ]
  },
  {
   "cell_type": "code",
   "execution_count": 2,
   "metadata": {},
   "outputs": [],
   "source": [
    "matchbox = torch.cuda.FloatTensor(*c[1].shape)\n",
    "loc_conf = torch.cuda.FloatTensor(*c[0].shape)\n",
    "\n",
    "for i,j in enumerate((d,d1)):\n",
    "    e = match(c[2],j)\n",
    "    matchbox[i].zero_().scatter_(1,e[1].unsqueeze(1),1.0)\n",
    "    loc_conf[i] = e[0]"
   ]
  },
  {
   "cell_type": "code",
   "execution_count": 3,
   "metadata": {},
   "outputs": [
    {
     "name": "stdout",
     "output_type": "stream",
     "text": [
      "torch.Size([2, 8732, 21]) torch.Size([2, 8732, 4]) torch.Size([2, 8732, 4])\n"
     ]
    }
   ],
   "source": [
    "print(matchbox.shape,loc_conf.shape,c[0].shape)"
   ]
  },
  {
   "cell_type": "code",
   "execution_count": 4,
   "metadata": {},
   "outputs": [],
   "source": [
    "pos = matchbox[:,:,-1] == 0\n",
    "\n",
    "pos_idx = pos.unsqueeze(pos.dim()).expand_as(c[0])\n",
    "loc_p = c[0].masked_select(pos_idx).view(-1,4)\n",
    "loc_t = loc_conf.masked_select(pos_idx).view(-1,4)\n",
    "loss_l = F.smooth_l1_loss(loc_p,loc_t,reduction='sum')"
   ]
  },
  {
   "cell_type": "code",
   "execution_count": 5,
   "metadata": {},
   "outputs": [
    {
     "data": {
      "text/plain": [
       "tensor(7.1530, grad_fn=<SmoothL1LossBackward>)"
      ]
     },
     "execution_count": 5,
     "metadata": {},
     "output_type": "execute_result"
    }
   ],
   "source": [
    "loss_l"
   ]
  },
  {
   "cell_type": "code",
   "execution_count": null,
   "metadata": {},
   "outputs": [],
   "source": [
    "loss_c = c[1].clone()\n",
    "pos = matchbox == 1\n",
    "loss_c[pos] = 0"
   ]
  },
  {
   "cell_type": "code",
   "execution_count": null,
   "metadata": {},
   "outputs": [],
   "source": [
    "_, loss_idx = loss_c.sort(1,descending=True)\n",
    "_, idx_rank = loss_idx.sort(1)\n",
    "neg = idx_rank < num_neg.expand_as(idx_rank)"
   ]
  },
  {
   "cell_type": "code",
   "execution_count": null,
   "metadata": {},
   "outputs": [],
   "source": []
  },
  {
   "cell_type": "code",
   "execution_count": null,
   "metadata": {},
   "outputs": [],
   "source": [
    "indexbase = c[0][pos_idx].view(-1,4)\n",
    "maskedselectbase = c[0].masked_select(pos_idx).view(-1,4)\n",
    "same = indexbase != maskedselectbase\n",
    "print(same.any()) # if indexbase and maskedselectbase is all same, return false(0.0)"
   ]
  },
  {
   "cell_type": "code",
   "execution_count": 34,
   "metadata": {},
   "outputs": [
    {
     "data": {
      "text/plain": [
       "torch.Size([616])"
      ]
     },
     "execution_count": 34,
     "metadata": {},
     "output_type": "execute_result"
    }
   ],
   "source": [
    "c[0].masked_select(pos_idx).shape"
   ]
  },
  {
   "cell_type": "markdown",
   "metadata": {},
   "source": [
    "```python\n",
    "batch_conf = conf_data.view(-1, self.num_classes) # conf_data : c[1], shape [ N, num_defaultbox, num_classes ]\n",
    "# batch_conf : shape [ N * num_defaultbox, num_classes ]\n",
    "loss_c = log_sum_exp(batch_conf) - batch_conf.gather(1, conf_t.view(-1, 1)) # loss_c = shape [ N * num_defaultbox ]\n",
    "```"
   ]
  },
  {
   "cell_type": "code",
   "execution_count": 6,
   "metadata": {},
   "outputs": [
    {
     "name": "stdout",
     "output_type": "stream",
     "text": [
      "torch.Size([2, 8732, 21]) torch.Size([2, 8732, 21])\n"
     ]
    }
   ],
   "source": [
    "print(c[1].shape, matchbox.shape)"
   ]
  },
  {
   "cell_type": "code",
   "execution_count": 7,
   "metadata": {},
   "outputs": [],
   "source": [
    "def log_sum_exp(x):\n",
    "    x_max = x.data.max()\n",
    "    return torch.log(torch.sum(torch.exp(x-x_max), 1, keepdim=True)) + x_max"
   ]
  },
  {
   "cell_type": "code",
   "execution_count": 8,
   "metadata": {},
   "outputs": [
    {
     "name": "stdout",
     "output_type": "stream",
     "text": [
      "torch.Size([5, 5]) torch.Size([5, 1])\n"
     ]
    }
   ],
   "source": [
    "tmp = torch.rand(5,5)\n",
    "print(tmp.shape, log_sum_exp(tmp).shape)"
   ]
  },
  {
   "cell_type": "code",
   "execution_count": null,
   "metadata": {},
   "outputs": [],
   "source": []
  }
 ],
 "metadata": {
  "kernelspec": {
   "display_name": "Python 3",
   "language": "python",
   "name": "python3"
  },
  "language_info": {
   "codemirror_mode": {
    "name": "ipython",
    "version": 3
   },
   "file_extension": ".py",
   "mimetype": "text/x-python",
   "name": "python",
   "nbconvert_exporter": "python",
   "pygments_lexer": "ipython3",
   "version": "3.7.0"
  }
 },
 "nbformat": 4,
 "nbformat_minor": 2
}
