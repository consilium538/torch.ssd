{
 "cells": [
  {
   "cell_type": "code",
   "execution_count": null,
   "metadata": {},
   "outputs": [],
   "source": [
    "import imgaug as ia\n",
    "from imgaug import augmenters as iaa\n",
    "import matplotlib.pyplot as plt"
   ]
  },
  {
   "cell_type": "code",
   "execution_count": null,
   "metadata": {},
   "outputs": [],
   "source": [
    "ia.seed(1)\n",
    "\n",
    "image = ia.quokka(size=(256, 256))\n",
    "keypoints = ia.KeypointsOnImage([\n",
    "    ia.Keypoint(x=65, y=100),\n",
    "    ia.Keypoint(x=75, y=200),\n",
    "    ia.Keypoint(x=100, y=100),\n",
    "    ia.Keypoint(x=200, y=80)\n",
    "], shape=image.shape)"
   ]
  },
  {
   "cell_type": "code",
   "execution_count": null,
   "metadata": {},
   "outputs": [],
   "source": [
    "seq = iaa.Sequential([\n",
    "    iaa.Multiply((1.2, 1.5)), # change brightness, doesn't affect keypoints\n",
    "    iaa.Affine(\n",
    "        rotate=10,\n",
    "        scale=(0.5, 0.7)\n",
    "    ) # rotate by exactly 10deg and scale to 50-70%, affects keypoints\n",
    "])"
   ]
  },
  {
   "cell_type": "code",
   "execution_count": null,
   "metadata": {},
   "outputs": [],
   "source": [
    "# Make our sequence deterministic.\n",
    "# We can now apply it to the image and then to the keypoints and it will\n",
    "# lead to the same augmentations.\n",
    "# IMPORTANT: Call this once PER BATCH, otherwise you will always get the\n",
    "# exactly same augmentations for every batch!\n",
    "seq_det = seq.to_deterministic()\n",
    "\n",
    "# Augment keypoints and images.\n",
    "# As we only have one image and list of keypoints, we use\n",
    "# [image] and [keypoints] to turn both into lists (batches) for the\n",
    "# functions and then [0] to reverse that. In a real experiment, your\n",
    "# variables would likely already be lists.\n",
    "image_aug = seq_det.augment_images([image])[0]\n",
    "keypoints_aug = seq_det.augment_keypoints([keypoints])[0]"
   ]
  },
  {
   "cell_type": "code",
   "execution_count": null,
   "metadata": {},
   "outputs": [],
   "source": [
    "# print coordinates before/after augmentation (see below)\n",
    "# use after.x_int and after.y_int to get rounded integer coordinates\n",
    "for i in range(len(keypoints.keypoints)):\n",
    "    before = keypoints.keypoints[i]\n",
    "    after = keypoints_aug.keypoints[i]\n",
    "    print(\"Keypoint %d: (%.8f, %.8f) -> (%.8f, %.8f)\" % (\n",
    "        i, before.x, before.y, after.x, after.y)\n",
    "    )\n",
    "\n",
    "# image with keypoints before/after augmentation (shown below)\n",
    "image_before = keypoints.draw_on_image(image, size=7)\n",
    "image_after = keypoints_aug.draw_on_image(image_aug, size=7)"
   ]
  },
  {
   "cell_type": "code",
   "execution_count": null,
   "metadata": {},
   "outputs": [],
   "source": [
    "plt.imshow(image_before)"
   ]
  },
  {
   "cell_type": "code",
   "execution_count": null,
   "metadata": {},
   "outputs": [],
   "source": [
    "plt.imshow(image_after)"
   ]
  },
  {
   "cell_type": "code",
   "execution_count": null,
   "metadata": {},
   "outputs": [],
   "source": []
  }
 ],
 "metadata": {
  "kernelspec": {
   "display_name": "Python 3",
   "language": "python",
   "name": "python3"
  },
  "language_info": {
   "codemirror_mode": {
    "name": "ipython",
    "version": 3
   },
   "file_extension": ".py",
   "mimetype": "text/x-python",
   "name": "python",
   "nbconvert_exporter": "python",
   "pygments_lexer": "ipython3",
   "version": "3.7.0"
  }
 },
 "nbformat": 4,
 "nbformat_minor": 2
}
